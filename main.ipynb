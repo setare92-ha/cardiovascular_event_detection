{
 "cells": [
  {
   "cell_type": "markdown",
   "id": "a96d5eb6-d242-4b87-8a83-282e63565434",
   "metadata": {},
   "source": [
    "# Cardiovascular Event Detection for Patients"
   ]
  },
  {
   "cell_type": "markdown",
   "id": "50cb77db-d4db-42a2-bd44-32e2294bdad2",
   "metadata": {},
   "source": [
    "<img src=\"./images/header.jpg\" \n",
    "    Width=\"1000\">"
   ]
  },
  {
   "cell_type": "markdown",
   "id": "e39746bf-21ec-424a-aa29-0cfa15731cc2",
   "metadata": {},
   "source": [
    "## 1. Business understanding"
   ]
  },
  {
   "cell_type": "markdown",
   "id": "55b246b6-81ae-4e8f-8f15-d7027f1125eb",
   "metadata": {},
   "source": [
    "The objective of this project is to develop a machine learning model that can predict the susceptibility of patients to heart disease based on several factors that can be monitored during health checks. This can be used as an early detection mechanism to improve patient outcomes and/or to prevent the occurance of such disease by doing more frequenct health checks or through life style changes. To this end, we use the [UCI Heart Disease Dataset](https://archive.ics.uci.edu/dataset/45/heart+disease) to develop, train and evaluate a machine learning model. \n",
    "\n",
    "The notebook is organized as follows: in Section 2, I use descriptive statistics and several visualizations to examine the dataset, develop a better understanding of the features and identify any cleaning or modifications that may be required. Next, I clean the data and address any missing values to prepare the data for building a model. In Section 3, several machine learning models (logistic regression, decision trees and in the end an ensemble method, a random forest method) are built, trained and evaluated based on unified performance metrics. The best model is identified. Section 4 summarizes the performance of the models built in tables and makes three recommendations to stakeholders based on the findings of this study. Section 5 lists the limitations of the current study as well as avenues that one may explore to improve the performance of the model. "
   ]
  },
  {
   "cell_type": "markdown",
   "id": "5b94926e-7bca-4b25-a733-6c363c0465ae",
   "metadata": {},
   "source": [
    "## 2. Explaratory Data Analysis"
   ]
  },
  {
   "cell_type": "code",
   "execution_count": 61,
   "id": "cb475338-cbb9-4feb-af8f-3c41ce81cf8a",
   "metadata": {},
   "outputs": [
    {
     "name": "stdin",
     "output_type": "stream",
     "text": [
      "Once deleted, variables cannot be recovered. Proceed (y/[n])?  y\n"
     ]
    }
   ],
   "source": [
    "%reset\n",
    "from matplotlib.gridspec import GridSpec\n",
    "import matplotlib.pyplot as plt\n",
    "import numpy as np\n",
    "import pandas as pd\n",
    "from scipy.stats import randint\n",
    "import seaborn as sns\n",
    "from sklearn.compose import ColumnTransformer\n",
    "from sklearn.ensemble import RandomForestClassifier\n",
    "from sklearn.linear_model import LogisticRegression\n",
    "from sklearn.metrics import accuracy_score, precision_score, recall_score, f1_score\n",
    "from sklearn.model_selection import train_test_split, cross_val_score, StratifiedKFold, GridSearchCV, RandomizedSearchCV\n",
    "from sklearn.pipeline import Pipeline\n",
    "from sklearn.preprocessing import OneHotEncoder,StandardScaler, MinMaxScaler\n",
    "from sklearn.tree import DecisionTreeClassifier\n",
    "# from typings import "
   ]
  },
  {
   "cell_type": "code",
   "execution_count": 62,
   "id": "2cafee3a-742d-457e-b9ae-4ec079890993",
   "metadata": {},
   "outputs": [],
   "source": [
    "def read_data(file_name: str) -> pd.DataFrame:\n",
    "    \"\"\" This function reads a file from the UIC heart disease repository and returns the result in a dataframe. \n",
    "    Args:\n",
    "        file_name: a string containing the file name\n",
    "\n",
    "    Returns:\n",
    "        df: a dataframe containing the data on file. \n",
    "    \"\"\"\n",
    "    # read the data; replace \"?\"s with NaNs\n",
    "    df = pd.read_csv(\"./unzipped_data/\"+file_name, header = None, na_values = [\"?\"])\n",
    "    \n",
    "    # column headers can be obtained from https://archive.ics.uci.edu/dataset/45/heart+disease\n",
    "    header_dicts = {0: \"age\", \n",
    "                    1: \"sex\", \n",
    "                    2: \"cp\", \n",
    "                    3: \"trestbps\",\n",
    "                    4: \"chol\",\n",
    "                    5: \"fbs\",\n",
    "                    6: \"restecg\",\n",
    "                    7: \"thalach\",\n",
    "                    8: \"exang\",\n",
    "                    9: \"oldpeak\",\n",
    "                    10: \"slope\",\n",
    "                    11: \"ca\",\n",
    "                    12: \"thal\",\n",
    "                    13: \"num\"}\n",
    "    df.rename(columns=header_dicts, inplace=True)\n",
    "    return df "
   ]
  },
  {
   "cell_type": "code",
   "execution_count": 63,
   "id": "928b572c-cd3a-457e-a0bc-247cc4327d6f",
   "metadata": {},
   "outputs": [],
   "source": [
    "def show_summary(df: pd.DataFrame):\n",
    "    print(\"Number of missing values in each attribute:\")\n",
    "    display(df.isna().sum())\n",
    "    display(df.info())\n",
    "    display(df.head())\n",
    "    return None"
   ]
  },
  {
   "cell_type": "code",
   "execution_count": 64,
   "id": "8b84bb18-1bd3-4dde-8f87-d5500955217a",
   "metadata": {},
   "outputs": [
    {
     "name": "stdout",
     "output_type": "stream",
     "text": [
      "Number of missing values in each attribute:\n"
     ]
    },
    {
     "data": {
      "text/plain": [
       "age           0\n",
       "sex           0\n",
       "cp            0\n",
       "trestbps      3\n",
       "chol         23\n",
       "fbs          83\n",
       "restecg       2\n",
       "thalach       2\n",
       "exang         2\n",
       "oldpeak       6\n",
       "slope       207\n",
       "ca          413\n",
       "thal        320\n",
       "num           0\n",
       "dtype: int64"
      ]
     },
     "metadata": {},
     "output_type": "display_data"
    },
    {
     "name": "stdout",
     "output_type": "stream",
     "text": [
      "<class 'pandas.core.frame.DataFrame'>\n",
      "Index: 720 entries, 0 to 293\n",
      "Data columns (total 14 columns):\n",
      " #   Column    Non-Null Count  Dtype  \n",
      "---  ------    --------------  -----  \n",
      " 0   age       720 non-null    float64\n",
      " 1   sex       720 non-null    float64\n",
      " 2   cp        720 non-null    float64\n",
      " 3   trestbps  717 non-null    float64\n",
      " 4   chol      697 non-null    float64\n",
      " 5   fbs       637 non-null    float64\n",
      " 6   restecg   718 non-null    float64\n",
      " 7   thalach   718 non-null    float64\n",
      " 8   exang     718 non-null    float64\n",
      " 9   oldpeak   714 non-null    float64\n",
      " 10  slope     513 non-null    float64\n",
      " 11  ca        307 non-null    float64\n",
      " 12  thal      400 non-null    float64\n",
      " 13  num       720 non-null    int64  \n",
      "dtypes: float64(13), int64(1)\n",
      "memory usage: 84.4 KB\n"
     ]
    },
    {
     "data": {
      "text/plain": [
       "None"
      ]
     },
     "metadata": {},
     "output_type": "display_data"
    },
    {
     "data": {
      "text/html": [
       "<div>\n",
       "<style scoped>\n",
       "    .dataframe tbody tr th:only-of-type {\n",
       "        vertical-align: middle;\n",
       "    }\n",
       "\n",
       "    .dataframe tbody tr th {\n",
       "        vertical-align: top;\n",
       "    }\n",
       "\n",
       "    .dataframe thead th {\n",
       "        text-align: right;\n",
       "    }\n",
       "</style>\n",
       "<table border=\"1\" class=\"dataframe\">\n",
       "  <thead>\n",
       "    <tr style=\"text-align: right;\">\n",
       "      <th></th>\n",
       "      <th>age</th>\n",
       "      <th>sex</th>\n",
       "      <th>cp</th>\n",
       "      <th>trestbps</th>\n",
       "      <th>chol</th>\n",
       "      <th>fbs</th>\n",
       "      <th>restecg</th>\n",
       "      <th>thalach</th>\n",
       "      <th>exang</th>\n",
       "      <th>oldpeak</th>\n",
       "      <th>slope</th>\n",
       "      <th>ca</th>\n",
       "      <th>thal</th>\n",
       "      <th>num</th>\n",
       "    </tr>\n",
       "  </thead>\n",
       "  <tbody>\n",
       "    <tr>\n",
       "      <th>0</th>\n",
       "      <td>63.0</td>\n",
       "      <td>1.0</td>\n",
       "      <td>1.0</td>\n",
       "      <td>145.0</td>\n",
       "      <td>233.0</td>\n",
       "      <td>1.0</td>\n",
       "      <td>2.0</td>\n",
       "      <td>150.0</td>\n",
       "      <td>0.0</td>\n",
       "      <td>2.3</td>\n",
       "      <td>3.0</td>\n",
       "      <td>0.0</td>\n",
       "      <td>6.0</td>\n",
       "      <td>0</td>\n",
       "    </tr>\n",
       "    <tr>\n",
       "      <th>1</th>\n",
       "      <td>67.0</td>\n",
       "      <td>1.0</td>\n",
       "      <td>4.0</td>\n",
       "      <td>160.0</td>\n",
       "      <td>286.0</td>\n",
       "      <td>0.0</td>\n",
       "      <td>2.0</td>\n",
       "      <td>108.0</td>\n",
       "      <td>1.0</td>\n",
       "      <td>1.5</td>\n",
       "      <td>2.0</td>\n",
       "      <td>3.0</td>\n",
       "      <td>3.0</td>\n",
       "      <td>2</td>\n",
       "    </tr>\n",
       "    <tr>\n",
       "      <th>2</th>\n",
       "      <td>67.0</td>\n",
       "      <td>1.0</td>\n",
       "      <td>4.0</td>\n",
       "      <td>120.0</td>\n",
       "      <td>229.0</td>\n",
       "      <td>0.0</td>\n",
       "      <td>2.0</td>\n",
       "      <td>129.0</td>\n",
       "      <td>1.0</td>\n",
       "      <td>2.6</td>\n",
       "      <td>2.0</td>\n",
       "      <td>2.0</td>\n",
       "      <td>7.0</td>\n",
       "      <td>1</td>\n",
       "    </tr>\n",
       "    <tr>\n",
       "      <th>3</th>\n",
       "      <td>37.0</td>\n",
       "      <td>1.0</td>\n",
       "      <td>3.0</td>\n",
       "      <td>130.0</td>\n",
       "      <td>250.0</td>\n",
       "      <td>0.0</td>\n",
       "      <td>0.0</td>\n",
       "      <td>187.0</td>\n",
       "      <td>0.0</td>\n",
       "      <td>3.5</td>\n",
       "      <td>3.0</td>\n",
       "      <td>0.0</td>\n",
       "      <td>3.0</td>\n",
       "      <td>0</td>\n",
       "    </tr>\n",
       "    <tr>\n",
       "      <th>4</th>\n",
       "      <td>41.0</td>\n",
       "      <td>0.0</td>\n",
       "      <td>2.0</td>\n",
       "      <td>130.0</td>\n",
       "      <td>204.0</td>\n",
       "      <td>0.0</td>\n",
       "      <td>2.0</td>\n",
       "      <td>172.0</td>\n",
       "      <td>0.0</td>\n",
       "      <td>1.4</td>\n",
       "      <td>1.0</td>\n",
       "      <td>0.0</td>\n",
       "      <td>3.0</td>\n",
       "      <td>0</td>\n",
       "    </tr>\n",
       "  </tbody>\n",
       "</table>\n",
       "</div>"
      ],
      "text/plain": [
       "    age  sex   cp  trestbps   chol  fbs  restecg  thalach  exang  oldpeak  \\\n",
       "0  63.0  1.0  1.0     145.0  233.0  1.0      2.0    150.0    0.0      2.3   \n",
       "1  67.0  1.0  4.0     160.0  286.0  0.0      2.0    108.0    1.0      1.5   \n",
       "2  67.0  1.0  4.0     120.0  229.0  0.0      2.0    129.0    1.0      2.6   \n",
       "3  37.0  1.0  3.0     130.0  250.0  0.0      0.0    187.0    0.0      3.5   \n",
       "4  41.0  0.0  2.0     130.0  204.0  0.0      2.0    172.0    0.0      1.4   \n",
       "\n",
       "   slope   ca  thal  num  \n",
       "0    3.0  0.0   6.0    0  \n",
       "1    2.0  3.0   3.0    2  \n",
       "2    2.0  2.0   7.0    1  \n",
       "3    3.0  0.0   3.0    0  \n",
       "4    1.0  0.0   3.0    0  "
      ]
     },
     "metadata": {},
     "output_type": "display_data"
    }
   ],
   "source": [
    "df_cleveland = read_data(\"processed.cleveland.data\")\n",
    "df_switzerland = read_data(\"processed.switzerland.data\")\n",
    "df_hungary = read_data(\"processed.hungarian.data\")\n",
    "df = pd.concat([df_cleveland, df_switzerland, df_hungary])\n",
    "show_summary(df)"
   ]
  },
  {
   "cell_type": "markdown",
   "id": "efa6f869-6dfa-4f78-af76-fe436cace767",
   "metadata": {},
   "source": [
    "Here, we explain some of the more unfamiliar attributes:\n",
    "- cp: chest pain type (contains 4 values)\n",
    "- trestbps: resting blood pressure\n",
    "- chol: serum cholestrol in mg/dl\n",
    "- fbs: fasting blood sugar > 120 mg/dl (1=true; 0=false)\n",
    "- restecg: resting electrocardiographic results (0: normal; 1: having ST-T wave abnormality; 2: showing probable or definite left ventricular hypertrophy be Este's criteria)\n",
    "- thalac: maximum heartrate achieved.\n",
    "- exang: exercise induced angina (1:yes; 0:no)\n",
    "- oldpeak: ST depression induced by exercise relative to rest\n",
    "- slope: the slope of the peak exercise ST segment (1: upsloping; 2: flat; 3: downsloping)\n",
    "- ca: number of major vessels (0-3) colored by fluoroscopy\n",
    "- thal: thalassemia status of the patient.\n",
    "- num: diagnosis of heart disease. (0: <50% diameter narrowing; 1:>50% diameter narrowing)"
   ]
  },
  {
   "cell_type": "markdown",
   "id": "019bbe49-cdb5-411a-a5f2-d368d454ac21",
   "metadata": {},
   "source": [
    "Let's take a look at descriptive statistics for the continous numerical variables. "
   ]
  },
  {
   "cell_type": "code",
   "execution_count": 65,
   "id": "d6ae6b89-4531-4ab6-8a25-19356875d7dd",
   "metadata": {},
   "outputs": [
    {
     "data": {
      "text/html": [
       "<div>\n",
       "<style scoped>\n",
       "    .dataframe tbody tr th:only-of-type {\n",
       "        vertical-align: middle;\n",
       "    }\n",
       "\n",
       "    .dataframe tbody tr th {\n",
       "        vertical-align: top;\n",
       "    }\n",
       "\n",
       "    .dataframe thead th {\n",
       "        text-align: right;\n",
       "    }\n",
       "</style>\n",
       "<table border=\"1\" class=\"dataframe\">\n",
       "  <thead>\n",
       "    <tr style=\"text-align: right;\">\n",
       "      <th></th>\n",
       "      <th>age</th>\n",
       "      <th>trestbps</th>\n",
       "      <th>chol</th>\n",
       "      <th>thalach</th>\n",
       "      <th>oldpeak</th>\n",
       "    </tr>\n",
       "  </thead>\n",
       "  <tbody>\n",
       "    <tr>\n",
       "      <th>count</th>\n",
       "      <td>720.000000</td>\n",
       "      <td>717.000000</td>\n",
       "      <td>697.000000</td>\n",
       "      <td>718.000000</td>\n",
       "      <td>714.000000</td>\n",
       "    </tr>\n",
       "    <tr>\n",
       "      <th>mean</th>\n",
       "      <td>51.888889</td>\n",
       "      <td>131.804742</td>\n",
       "      <td>204.774749</td>\n",
       "      <td>140.565460</td>\n",
       "      <td>0.789636</td>\n",
       "    </tr>\n",
       "    <tr>\n",
       "      <th>std</th>\n",
       "      <td>9.193720</td>\n",
       "      <td>18.529331</td>\n",
       "      <td>109.275156</td>\n",
       "      <td>25.647172</td>\n",
       "      <td>1.066961</td>\n",
       "    </tr>\n",
       "    <tr>\n",
       "      <th>min</th>\n",
       "      <td>28.000000</td>\n",
       "      <td>80.000000</td>\n",
       "      <td>0.000000</td>\n",
       "      <td>60.000000</td>\n",
       "      <td>-2.600000</td>\n",
       "    </tr>\n",
       "    <tr>\n",
       "      <th>25%</th>\n",
       "      <td>45.000000</td>\n",
       "      <td>120.000000</td>\n",
       "      <td>182.000000</td>\n",
       "      <td>122.000000</td>\n",
       "      <td>0.000000</td>\n",
       "    </tr>\n",
       "    <tr>\n",
       "      <th>50%</th>\n",
       "      <td>53.000000</td>\n",
       "      <td>130.000000</td>\n",
       "      <td>227.000000</td>\n",
       "      <td>142.000000</td>\n",
       "      <td>0.200000</td>\n",
       "    </tr>\n",
       "    <tr>\n",
       "      <th>75%</th>\n",
       "      <td>58.000000</td>\n",
       "      <td>140.000000</td>\n",
       "      <td>270.000000</td>\n",
       "      <td>160.000000</td>\n",
       "      <td>1.500000</td>\n",
       "    </tr>\n",
       "    <tr>\n",
       "      <th>max</th>\n",
       "      <td>77.000000</td>\n",
       "      <td>200.000000</td>\n",
       "      <td>603.000000</td>\n",
       "      <td>202.000000</td>\n",
       "      <td>6.200000</td>\n",
       "    </tr>\n",
       "  </tbody>\n",
       "</table>\n",
       "</div>"
      ],
      "text/plain": [
       "              age    trestbps        chol     thalach     oldpeak\n",
       "count  720.000000  717.000000  697.000000  718.000000  714.000000\n",
       "mean    51.888889  131.804742  204.774749  140.565460    0.789636\n",
       "std      9.193720   18.529331  109.275156   25.647172    1.066961\n",
       "min     28.000000   80.000000    0.000000   60.000000   -2.600000\n",
       "25%     45.000000  120.000000  182.000000  122.000000    0.000000\n",
       "50%     53.000000  130.000000  227.000000  142.000000    0.200000\n",
       "75%     58.000000  140.000000  270.000000  160.000000    1.500000\n",
       "max     77.000000  200.000000  603.000000  202.000000    6.200000"
      ]
     },
     "execution_count": 65,
     "metadata": {},
     "output_type": "execute_result"
    }
   ],
   "source": [
    "df.rename(columns={'num':'diagnosis'}, inplace=True)\n",
    "cols_to_describe = ['age', 'trestbps', 'chol','thalach', 'oldpeak']\n",
    "df[cols_to_describe].describe()"
   ]
  },
  {
   "cell_type": "code",
   "execution_count": 66,
   "id": "19e3a5a2-713f-44aa-a507-821b30a950ae",
   "metadata": {},
   "outputs": [
    {
     "data": {
      "text/plain": [
       "diagnosis\n",
       "0    360\n",
       "1    360\n",
       "Name: count, dtype: int64"
      ]
     },
     "execution_count": 66,
     "metadata": {},
     "output_type": "execute_result"
    }
   ],
   "source": [
    "df['diagnosis'] = df['diagnosis'].apply(lambda x: 1 if x>=1 else 0)\n",
    "df['diagnosis'].value_counts() # check for imbalance"
   ]
  },
  {
   "cell_type": "code",
   "execution_count": 67,
   "id": "1214b98d-2d5a-4672-abd1-983b46729038",
   "metadata": {},
   "outputs": [
    {
     "data": {
      "text/plain": [
       "age           0\n",
       "sex           0\n",
       "cp            0\n",
       "trestbps      3\n",
       "chol         23\n",
       "fbs          83\n",
       "restecg       2\n",
       "thalach       2\n",
       "exang         2\n",
       "oldpeak       6\n",
       "diagnosis     0\n",
       "dtype: int64"
      ]
     },
     "execution_count": 67,
     "metadata": {},
     "output_type": "execute_result"
    }
   ],
   "source": [
    "# drop the columns with lots of nan entries\n",
    "df.drop(columns=['slope','ca','thal'], inplace=True)\n",
    "df.isna().sum()"
   ]
  },
  {
   "cell_type": "code",
   "execution_count": 68,
   "id": "60bcecf8-3239-47f3-b8e6-3aa3c610e7fe",
   "metadata": {},
   "outputs": [
    {
     "data": {
      "text/plain": [
       "age          0\n",
       "sex          0\n",
       "cp           0\n",
       "trestbps     0\n",
       "chol         0\n",
       "fbs          0\n",
       "restecg      0\n",
       "thalach      0\n",
       "exang        0\n",
       "oldpeak      0\n",
       "diagnosis    0\n",
       "dtype: int64"
      ]
     },
     "execution_count": 68,
     "metadata": {},
     "output_type": "execute_result"
    }
   ],
   "source": [
    "# drop nan entries (rows) from the remaining columns \n",
    "df.dropna(axis=0, inplace=True)\n",
    "df.isna().sum()"
   ]
  },
  {
   "cell_type": "markdown",
   "id": "856f1651-6c82-41c4-91d3-c6308fe0de91",
   "metadata": {},
   "source": [
    "**Do we have enough data?**"
   ]
  },
  {
   "cell_type": "code",
   "execution_count": 69,
   "id": "3f83b020-89f6-487a-9d99-cb7b454c6a9b",
   "metadata": {},
   "outputs": [
    {
     "data": {
      "text/plain": [
       "\"We have 6100 data points. It's somewhat under 10000 which is the preferred rule-of-thumb for developing ML models but we will choose to go ahead for the purpose of this project.\""
      ]
     },
     "execution_count": 69,
     "metadata": {},
     "output_type": "execute_result"
    }
   ],
   "source": [
    "f\"\"\"We have {df.shape[0]*(df.shape[1]-1)} data points. It's somewhat under 10000 which is the preferred rule-of-thumb for developing ML models but we will choose to go ahead for the purpose of this project.\"\"\""
   ]
  },
  {
   "cell_type": "markdown",
   "id": "b9a931ac-4b15-4df4-a231-6e82fad4e2cc",
   "metadata": {},
   "source": [
    "### Visual inspection of numeric variables"
   ]
  },
  {
   "cell_type": "code",
   "execution_count": 70,
   "id": "73174c1e-b20d-49c1-9308-f184511282e7",
   "metadata": {},
   "outputs": [
    {
     "data": {
      "image/png": "[encoded data removed]",
      "text/plain": [
       "<Figure size 800x300 with 3 Axes>"
      ]
     },
     "metadata": {},
     "output_type": "display_data"
    }
   ],
   "source": [
    "fig = plt.figure(figsize=(8, 3))\n",
    "gs = GridSpec(1,3, width_ratios=[1,2,1])\n",
    "ax1 = fig.add_subplot(gs[0])\n",
    "sns.violinplot(df[['age']], ax=ax1, color='skyblue')\n",
    "ax1.grid(alpha=0.5)\n",
    "\n",
    "ax2 = fig.add_subplot(gs[1])\n",
    "sns.violinplot(df[cols_to_describe].drop(columns=['age','oldpeak']), ax=ax2)\n",
    "ax2.grid(alpha=0.5)\n",
    "ax2.set_ylim([50,400])\n",
    "\n",
    "ax3 = fig.add_subplot(gs[2])\n",
    "sns.violinplot(df[['oldpeak']], ax=ax3, color='skyblue')\n",
    "ax3.grid(alpha=0.5)\n",
    "\n",
    "plt.tight_layout()\n",
    "plt.show()"
   ]
  },
  {
   "cell_type": "code",
   "execution_count": 71,
   "id": "9b22a26e-848d-4e24-be25-7ffd949b605a",
   "metadata": {},
   "outputs": [
    {
     "data": {
      "text/html": [
       "<div>\n",
       "<style scoped>\n",
       "    .dataframe tbody tr th:only-of-type {\n",
       "        vertical-align: middle;\n",
       "    }\n",
       "\n",
       "    .dataframe tbody tr th {\n",
       "        vertical-align: top;\n",
       "    }\n",
       "\n",
       "    .dataframe thead th {\n",
       "        text-align: right;\n",
       "    }\n",
       "</style>\n",
       "<table border=\"1\" class=\"dataframe\">\n",
       "  <thead>\n",
       "    <tr style=\"text-align: right;\">\n",
       "      <th></th>\n",
       "      <th>age</th>\n",
       "      <th>trestbps</th>\n",
       "      <th>chol</th>\n",
       "      <th>thalach</th>\n",
       "      <th>oldpeak</th>\n",
       "    </tr>\n",
       "  </thead>\n",
       "  <tbody>\n",
       "    <tr>\n",
       "      <th>age</th>\n",
       "      <td>1.000000</td>\n",
       "      <td>0.257687</td>\n",
       "      <td>-0.032169</td>\n",
       "      <td>-0.325355</td>\n",
       "      <td>0.231476</td>\n",
       "    </tr>\n",
       "    <tr>\n",
       "      <th>trestbps</th>\n",
       "      <td>0.257687</td>\n",
       "      <td>1.000000</td>\n",
       "      <td>0.034147</td>\n",
       "      <td>-0.138136</td>\n",
       "      <td>0.186991</td>\n",
       "    </tr>\n",
       "    <tr>\n",
       "      <th>chol</th>\n",
       "      <td>-0.032169</td>\n",
       "      <td>0.034147</td>\n",
       "      <td>1.000000</td>\n",
       "      <td>0.202955</td>\n",
       "      <td>0.114410</td>\n",
       "    </tr>\n",
       "    <tr>\n",
       "      <th>thalach</th>\n",
       "      <td>-0.325355</td>\n",
       "      <td>-0.138136</td>\n",
       "      <td>0.202955</td>\n",
       "      <td>1.000000</td>\n",
       "      <td>-0.206474</td>\n",
       "    </tr>\n",
       "    <tr>\n",
       "      <th>oldpeak</th>\n",
       "      <td>0.231476</td>\n",
       "      <td>0.186991</td>\n",
       "      <td>0.114410</td>\n",
       "      <td>-0.206474</td>\n",
       "      <td>1.000000</td>\n",
       "    </tr>\n",
       "  </tbody>\n",
       "</table>\n",
       "</div>"
      ],
      "text/plain": [
       "               age  trestbps      chol   thalach   oldpeak\n",
       "age       1.000000  0.257687 -0.032169 -0.325355  0.231476\n",
       "trestbps  0.257687  1.000000  0.034147 -0.138136  0.186991\n",
       "chol     -0.032169  0.034147  1.000000  0.202955  0.114410\n",
       "thalach  -0.325355 -0.138136  0.202955  1.000000 -0.206474\n",
       "oldpeak   0.231476  0.186991  0.114410 -0.206474  1.000000"
      ]
     },
     "execution_count": 71,
     "metadata": {},
     "output_type": "execute_result"
    }
   ],
   "source": [
    "df[['age','trestbps','chol','thalach','oldpeak']].corr()"
   ]
  },
  {
   "cell_type": "markdown",
   "id": "771a4985-93fe-43f5-98bb-dfc8e2c85b55",
   "metadata": {},
   "source": [
    "The numerical varaibles are not highly-correlated with one another."
   ]
  },
  {
   "cell_type": "markdown",
   "id": "8337ce5e-30dc-4555-9e3d-250150425553",
   "metadata": {},
   "source": [
    "### Visual inspection of categorical variables"
   ]
  },
  {
   "cell_type": "code",
   "execution_count": 72,
   "id": "47538d32-40e8-4018-b2b7-6424c36b8bdf",
   "metadata": {},
   "outputs": [
    {
     "data": {
      "image/png": "[encoded data removed]",
      "text/plain": [
       "<Figure size 1000x800 with 5 Axes>"
      ]
     },
     "metadata": {},
     "output_type": "display_data"
    }
   ],
   "source": [
    "# visualize categorical variables\n",
    "df_cat = df.drop(columns=cols_to_describe)\n",
    "df_cat.drop(columns='diagnosis', inplace=True)\n",
    "fig, ax = plt.subplots(2,3, figsize=(10,8))\n",
    "cat_cols = df_cat.columns\n",
    "\n",
    "[df_cat[cat_cols[i]].hist(color='skyblue', ax=ax[i%2,i%3]) for i in range(0,len(cat_cols))];\n",
    "[ax[i%2,i%3].set_xlabel(cat_cols[i]) for i in range(0,len(cat_cols))];\n",
    "[ax[i%2,i%3].grid(alpha=0.5) for i in range(0,len(cat_cols))];\n",
    "fig.delaxes(ax[1,2])"
   ]
  },
  {
   "cell_type": "markdown",
   "id": "e544bb65-0829-4efd-aa2b-8394d3989809",
   "metadata": {},
   "source": [
    "The only variables that would need **one-hot encoding** are: *cp* and *restceg*."
   ]
  },
  {
   "cell_type": "markdown",
   "id": "36cd697c-a76d-4d61-a389-589c341dd09e",
   "metadata": {},
   "source": [
    "## 3. Machine Learning Model"
   ]
  },
  {
   "cell_type": "code",
   "execution_count": 73,
   "id": "73f576bd-53c3-41ea-91e5-1f41d1e63c94",
   "metadata": {},
   "outputs": [],
   "source": [
    "X = df.drop(columns = 'diagnosis')\n",
    "y = df['diagnosis']\n",
    "\n",
    "# split the data into train and test sets to avoid data leakage\n",
    "X_train, X_test, y_train, y_test = train_test_split(X, y, test_size=0.25, random_state=42)"
   ]
  },
  {
   "cell_type": "code",
   "execution_count": 74,
   "id": "852ffb01-4a03-478d-99db-c32e293cf73a",
   "metadata": {},
   "outputs": [
    {
     "data": {
      "text/html": [
       "<div>\n",
       "<style scoped>\n",
       "    .dataframe tbody tr th:only-of-type {\n",
       "        vertical-align: middle;\n",
       "    }\n",
       "\n",
       "    .dataframe tbody tr th {\n",
       "        vertical-align: top;\n",
       "    }\n",
       "\n",
       "    .dataframe thead th {\n",
       "        text-align: right;\n",
       "    }\n",
       "</style>\n",
       "<table border=\"1\" class=\"dataframe\">\n",
       "  <thead>\n",
       "    <tr style=\"text-align: right;\">\n",
       "      <th></th>\n",
       "      <th>sex</th>\n",
       "      <th>exang</th>\n",
       "      <th>fbs</th>\n",
       "      <th>cp_2</th>\n",
       "      <th>cp_3</th>\n",
       "      <th>cp_4</th>\n",
       "      <th>restecg_1</th>\n",
       "      <th>restecg_2</th>\n",
       "    </tr>\n",
       "  </thead>\n",
       "  <tbody>\n",
       "    <tr>\n",
       "      <th>88</th>\n",
       "      <td>0.0</td>\n",
       "      <td>0.0</td>\n",
       "      <td>0.0</td>\n",
       "      <td>0.0</td>\n",
       "      <td>0.0</td>\n",
       "      <td>1.0</td>\n",
       "      <td>0.0</td>\n",
       "      <td>1.0</td>\n",
       "    </tr>\n",
       "    <tr>\n",
       "      <th>187</th>\n",
       "      <td>1.0</td>\n",
       "      <td>0.0</td>\n",
       "      <td>0.0</td>\n",
       "      <td>1.0</td>\n",
       "      <td>0.0</td>\n",
       "      <td>0.0</td>\n",
       "      <td>0.0</td>\n",
       "      <td>0.0</td>\n",
       "    </tr>\n",
       "    <tr>\n",
       "      <th>117</th>\n",
       "      <td>0.0</td>\n",
       "      <td>0.0</td>\n",
       "      <td>0.0</td>\n",
       "      <td>0.0</td>\n",
       "      <td>0.0</td>\n",
       "      <td>1.0</td>\n",
       "      <td>0.0</td>\n",
       "      <td>0.0</td>\n",
       "    </tr>\n",
       "    <tr>\n",
       "      <th>49</th>\n",
       "      <td>1.0</td>\n",
       "      <td>0.0</td>\n",
       "      <td>0.0</td>\n",
       "      <td>1.0</td>\n",
       "      <td>0.0</td>\n",
       "      <td>0.0</td>\n",
       "      <td>0.0</td>\n",
       "      <td>0.0</td>\n",
       "    </tr>\n",
       "    <tr>\n",
       "      <th>76</th>\n",
       "      <td>1.0</td>\n",
       "      <td>0.0</td>\n",
       "      <td>0.0</td>\n",
       "      <td>0.0</td>\n",
       "      <td>0.0</td>\n",
       "      <td>1.0</td>\n",
       "      <td>0.0</td>\n",
       "      <td>0.0</td>\n",
       "    </tr>\n",
       "  </tbody>\n",
       "</table>\n",
       "</div>"
      ],
      "text/plain": [
       "     sex  exang  fbs  cp_2  cp_3  cp_4  restecg_1  restecg_2\n",
       "88   0.0    0.0  0.0   0.0   0.0   1.0        0.0        1.0\n",
       "187  1.0    0.0  0.0   1.0   0.0   0.0        0.0        0.0\n",
       "117  0.0    0.0  0.0   0.0   0.0   1.0        0.0        0.0\n",
       "49   1.0    0.0  0.0   1.0   0.0   0.0        0.0        0.0\n",
       "76   1.0    0.0  0.0   0.0   0.0   1.0        0.0        0.0"
      ]
     },
     "metadata": {},
     "output_type": "display_data"
    },
    {
     "data": {
      "text/html": [
       "<div>\n",
       "<style scoped>\n",
       "    .dataframe tbody tr th:only-of-type {\n",
       "        vertical-align: middle;\n",
       "    }\n",
       "\n",
       "    .dataframe tbody tr th {\n",
       "        vertical-align: top;\n",
       "    }\n",
       "\n",
       "    .dataframe thead th {\n",
       "        text-align: right;\n",
       "    }\n",
       "</style>\n",
       "<table border=\"1\" class=\"dataframe\">\n",
       "  <thead>\n",
       "    <tr style=\"text-align: right;\">\n",
       "      <th></th>\n",
       "      <th>sex</th>\n",
       "      <th>exang</th>\n",
       "      <th>fbs</th>\n",
       "      <th>cp_2</th>\n",
       "      <th>cp_3</th>\n",
       "      <th>cp_4</th>\n",
       "      <th>restecg_1</th>\n",
       "      <th>restecg_2</th>\n",
       "    </tr>\n",
       "  </thead>\n",
       "  <tbody>\n",
       "    <tr>\n",
       "      <th>81</th>\n",
       "      <td>0.0</td>\n",
       "      <td>0.0</td>\n",
       "      <td>0.0</td>\n",
       "      <td>0.0</td>\n",
       "      <td>0.0</td>\n",
       "      <td>1.0</td>\n",
       "      <td>0.0</td>\n",
       "      <td>1.0</td>\n",
       "    </tr>\n",
       "    <tr>\n",
       "      <th>218</th>\n",
       "      <td>0.0</td>\n",
       "      <td>0.0</td>\n",
       "      <td>0.0</td>\n",
       "      <td>0.0</td>\n",
       "      <td>0.0</td>\n",
       "      <td>1.0</td>\n",
       "      <td>0.0</td>\n",
       "      <td>0.0</td>\n",
       "    </tr>\n",
       "    <tr>\n",
       "      <th>55</th>\n",
       "      <td>1.0</td>\n",
       "      <td>1.0</td>\n",
       "      <td>0.0</td>\n",
       "      <td>0.0</td>\n",
       "      <td>0.0</td>\n",
       "      <td>1.0</td>\n",
       "      <td>0.0</td>\n",
       "      <td>1.0</td>\n",
       "    </tr>\n",
       "    <tr>\n",
       "      <th>282</th>\n",
       "      <td>0.0</td>\n",
       "      <td>1.0</td>\n",
       "      <td>0.0</td>\n",
       "      <td>0.0</td>\n",
       "      <td>0.0</td>\n",
       "      <td>1.0</td>\n",
       "      <td>0.0</td>\n",
       "      <td>0.0</td>\n",
       "    </tr>\n",
       "    <tr>\n",
       "      <th>264</th>\n",
       "      <td>1.0</td>\n",
       "      <td>1.0</td>\n",
       "      <td>0.0</td>\n",
       "      <td>0.0</td>\n",
       "      <td>0.0</td>\n",
       "      <td>1.0</td>\n",
       "      <td>0.0</td>\n",
       "      <td>1.0</td>\n",
       "    </tr>\n",
       "  </tbody>\n",
       "</table>\n",
       "</div>"
      ],
      "text/plain": [
       "     sex  exang  fbs  cp_2  cp_3  cp_4  restecg_1  restecg_2\n",
       "81   0.0    0.0  0.0   0.0   0.0   1.0        0.0        1.0\n",
       "218  0.0    0.0  0.0   0.0   0.0   1.0        0.0        0.0\n",
       "55   1.0    1.0  0.0   0.0   0.0   1.0        0.0        1.0\n",
       "282  0.0    1.0  0.0   0.0   0.0   1.0        0.0        0.0\n",
       "264  1.0    1.0  0.0   0.0   0.0   1.0        0.0        1.0"
      ]
     },
     "metadata": {},
     "output_type": "display_data"
    }
   ],
   "source": [
    "cat_features_to_encode = [\"cp\", \"restecg\"]\n",
    "cat_features_no_encode = [\"sex\",\"exang\",\"fbs\"]\n",
    "X_train_categorical = X_train[cat_features_to_encode].copy()\n",
    "\n",
    "ohe = OneHotEncoder(sparse_output=False, feature_name_combiner='concat', drop='first')\n",
    "ohe.fit(X_train_categorical)\n",
    "\n",
    "X_train_ohe = pd.DataFrame(\n",
    "    ohe.transform(X_train_categorical),\n",
    "    # index is important to ensure we can concatenate with other columns\n",
    "    index=X_train_categorical.index)\n",
    "X_train_ohe.rename(columns={0:'cp_2', 1:'cp_3', 2:'cp_4', 3:'restecg_1', 4:'restecg_2'}, inplace=True)\n",
    "X_train_ohe = pd.concat([X_train[cat_features_no_encode],X_train_ohe], axis=1)\n",
    "\n",
    "display(X_train_ohe.head())\n",
    "\n",
    "## repeat same procedure on X_test\n",
    "X_test_categorical = X_test[cat_features_to_encode].copy()\n",
    "X_test_ohe = pd.DataFrame(\n",
    "    ohe.transform(X_test_categorical),\n",
    "    # index is important to ensure we can concatenate with other columns\n",
    "    index=X_test_categorical.index)\n",
    "# X_test_ohe.rename(columns={0:'cp_1', 1:'cp_2', 2:'cp_3', 3:'cp_4', 4:'restecg_0', 5:'restecg_1', 6:'restecg_2' }, inplace=True)\n",
    "X_test_ohe.rename(columns={0:'cp_2', 1:'cp_3', 2:'cp_4', 3:'restecg_1', 4:'restecg_2'}, inplace=True)\n",
    "X_test_ohe = pd.concat([X_test[cat_features_no_encode],X_test_ohe], axis=1)\n",
    "display(X_test_ohe.head())"
   ]
  },
  {
   "cell_type": "code",
   "execution_count": 75,
   "id": "c4c6e476-0611-447e-a1e3-e5beed384345",
   "metadata": {},
   "outputs": [
    {
     "data": {
      "text/html": [
       "<div>\n",
       "<style scoped>\n",
       "    .dataframe tbody tr th:only-of-type {\n",
       "        vertical-align: middle;\n",
       "    }\n",
       "\n",
       "    .dataframe tbody tr th {\n",
       "        vertical-align: top;\n",
       "    }\n",
       "\n",
       "    .dataframe thead th {\n",
       "        text-align: right;\n",
       "    }\n",
       "</style>\n",
       "<table border=\"1\" class=\"dataframe\">\n",
       "  <thead>\n",
       "    <tr style=\"text-align: right;\">\n",
       "      <th></th>\n",
       "      <th>age</th>\n",
       "      <th>trestbps</th>\n",
       "      <th>chol</th>\n",
       "      <th>thalach</th>\n",
       "      <th>oldpeak</th>\n",
       "    </tr>\n",
       "  </thead>\n",
       "  <tbody>\n",
       "    <tr>\n",
       "      <th>88</th>\n",
       "      <td>53.0</td>\n",
       "      <td>138.0</td>\n",
       "      <td>234.0</td>\n",
       "      <td>160.0</td>\n",
       "      <td>0.0</td>\n",
       "    </tr>\n",
       "    <tr>\n",
       "      <th>187</th>\n",
       "      <td>62.0</td>\n",
       "      <td>140.0</td>\n",
       "      <td>271.0</td>\n",
       "      <td>152.0</td>\n",
       "      <td>1.0</td>\n",
       "    </tr>\n",
       "    <tr>\n",
       "      <th>117</th>\n",
       "      <td>35.0</td>\n",
       "      <td>138.0</td>\n",
       "      <td>183.0</td>\n",
       "      <td>182.0</td>\n",
       "      <td>1.4</td>\n",
       "    </tr>\n",
       "    <tr>\n",
       "      <th>49</th>\n",
       "      <td>41.0</td>\n",
       "      <td>120.0</td>\n",
       "      <td>295.0</td>\n",
       "      <td>170.0</td>\n",
       "      <td>0.0</td>\n",
       "    </tr>\n",
       "    <tr>\n",
       "      <th>76</th>\n",
       "      <td>45.0</td>\n",
       "      <td>120.0</td>\n",
       "      <td>225.0</td>\n",
       "      <td>140.0</td>\n",
       "      <td>0.0</td>\n",
       "    </tr>\n",
       "  </tbody>\n",
       "</table>\n",
       "</div>"
      ],
      "text/plain": [
       "      age  trestbps   chol  thalach  oldpeak\n",
       "88   53.0     138.0  234.0    160.0      0.0\n",
       "187  62.0     140.0  271.0    152.0      1.0\n",
       "117  35.0     138.0  183.0    182.0      1.4\n",
       "49   41.0     120.0  295.0    170.0      0.0\n",
       "76   45.0     120.0  225.0    140.0      0.0"
      ]
     },
     "metadata": {},
     "output_type": "display_data"
    },
    {
     "data": {
      "text/html": [
       "<div>\n",
       "<style scoped>\n",
       "    .dataframe tbody tr th:only-of-type {\n",
       "        vertical-align: middle;\n",
       "    }\n",
       "\n",
       "    .dataframe tbody tr th {\n",
       "        vertical-align: top;\n",
       "    }\n",
       "\n",
       "    .dataframe thead th {\n",
       "        text-align: right;\n",
       "    }\n",
       "</style>\n",
       "<table border=\"1\" class=\"dataframe\">\n",
       "  <thead>\n",
       "    <tr style=\"text-align: right;\">\n",
       "      <th></th>\n",
       "      <th>age</th>\n",
       "      <th>trestbps</th>\n",
       "      <th>chol</th>\n",
       "      <th>thalach</th>\n",
       "      <th>oldpeak</th>\n",
       "    </tr>\n",
       "  </thead>\n",
       "  <tbody>\n",
       "    <tr>\n",
       "      <th>81</th>\n",
       "      <td>53.0</td>\n",
       "      <td>130.0</td>\n",
       "      <td>264.0</td>\n",
       "      <td>143.0</td>\n",
       "      <td>0.4</td>\n",
       "    </tr>\n",
       "    <tr>\n",
       "      <th>218</th>\n",
       "      <td>64.0</td>\n",
       "      <td>130.0</td>\n",
       "      <td>303.0</td>\n",
       "      <td>122.0</td>\n",
       "      <td>2.0</td>\n",
       "    </tr>\n",
       "    <tr>\n",
       "      <th>55</th>\n",
       "      <td>54.0</td>\n",
       "      <td>124.0</td>\n",
       "      <td>266.0</td>\n",
       "      <td>109.0</td>\n",
       "      <td>2.2</td>\n",
       "    </tr>\n",
       "    <tr>\n",
       "      <th>282</th>\n",
       "      <td>47.0</td>\n",
       "      <td>120.0</td>\n",
       "      <td>205.0</td>\n",
       "      <td>98.0</td>\n",
       "      <td>2.0</td>\n",
       "    </tr>\n",
       "    <tr>\n",
       "      <th>264</th>\n",
       "      <td>61.0</td>\n",
       "      <td>138.0</td>\n",
       "      <td>166.0</td>\n",
       "      <td>125.0</td>\n",
       "      <td>3.6</td>\n",
       "    </tr>\n",
       "  </tbody>\n",
       "</table>\n",
       "</div>"
      ],
      "text/plain": [
       "      age  trestbps   chol  thalach  oldpeak\n",
       "81   53.0     130.0  264.0    143.0      0.4\n",
       "218  64.0     130.0  303.0    122.0      2.0\n",
       "55   54.0     124.0  266.0    109.0      2.2\n",
       "282  47.0     120.0  205.0     98.0      2.0\n",
       "264  61.0     138.0  166.0    125.0      3.6"
      ]
     },
     "metadata": {},
     "output_type": "display_data"
    }
   ],
   "source": [
    "numeric_features = cols_to_describe\n",
    "X_train_numeric = X_train[numeric_features].copy()\n",
    "display(X_train_numeric.head())\n",
    "\n",
    "## repeat same procedure on X_test\n",
    "X_test_numeric = X_test[numeric_features].copy()\n",
    "display(X_test_numeric.head())"
   ]
  },
  {
   "cell_type": "code",
   "execution_count": 76,
   "id": "b8ef698f-d5cb-4ff3-875a-5031eb7b2e56",
   "metadata": {},
   "outputs": [
    {
     "data": {
      "text/html": [
       "<div>\n",
       "<style scoped>\n",
       "    .dataframe tbody tr th:only-of-type {\n",
       "        vertical-align: middle;\n",
       "    }\n",
       "\n",
       "    .dataframe tbody tr th {\n",
       "        vertical-align: top;\n",
       "    }\n",
       "\n",
       "    .dataframe thead th {\n",
       "        text-align: right;\n",
       "    }\n",
       "</style>\n",
       "<table border=\"1\" class=\"dataframe\">\n",
       "  <thead>\n",
       "    <tr style=\"text-align: right;\">\n",
       "      <th></th>\n",
       "      <th>age</th>\n",
       "      <th>trestbps</th>\n",
       "      <th>chol</th>\n",
       "      <th>thalach</th>\n",
       "      <th>oldpeak</th>\n",
       "    </tr>\n",
       "  </thead>\n",
       "  <tbody>\n",
       "    <tr>\n",
       "      <th>88</th>\n",
       "      <td>0.510204</td>\n",
       "      <td>0.425926</td>\n",
       "      <td>0.388060</td>\n",
       "      <td>0.746269</td>\n",
       "      <td>0.138889</td>\n",
       "    </tr>\n",
       "    <tr>\n",
       "      <th>187</th>\n",
       "      <td>0.693878</td>\n",
       "      <td>0.444444</td>\n",
       "      <td>0.449420</td>\n",
       "      <td>0.686567</td>\n",
       "      <td>0.277778</td>\n",
       "    </tr>\n",
       "    <tr>\n",
       "      <th>117</th>\n",
       "      <td>0.142857</td>\n",
       "      <td>0.425926</td>\n",
       "      <td>0.303483</td>\n",
       "      <td>0.910448</td>\n",
       "      <td>0.333333</td>\n",
       "    </tr>\n",
       "    <tr>\n",
       "      <th>49</th>\n",
       "      <td>0.265306</td>\n",
       "      <td>0.259259</td>\n",
       "      <td>0.489221</td>\n",
       "      <td>0.820896</td>\n",
       "      <td>0.138889</td>\n",
       "    </tr>\n",
       "    <tr>\n",
       "      <th>76</th>\n",
       "      <td>0.346939</td>\n",
       "      <td>0.259259</td>\n",
       "      <td>0.373134</td>\n",
       "      <td>0.597015</td>\n",
       "      <td>0.138889</td>\n",
       "    </tr>\n",
       "  </tbody>\n",
       "</table>\n",
       "</div>"
      ],
      "text/plain": [
       "          age  trestbps      chol   thalach   oldpeak\n",
       "88   0.510204  0.425926  0.388060  0.746269  0.138889\n",
       "187  0.693878  0.444444  0.449420  0.686567  0.277778\n",
       "117  0.142857  0.425926  0.303483  0.910448  0.333333\n",
       "49   0.265306  0.259259  0.489221  0.820896  0.138889\n",
       "76   0.346939  0.259259  0.373134  0.597015  0.138889"
      ]
     },
     "metadata": {},
     "output_type": "display_data"
    },
    {
     "data": {
      "text/html": [
       "<div>\n",
       "<style scoped>\n",
       "    .dataframe tbody tr th:only-of-type {\n",
       "        vertical-align: middle;\n",
       "    }\n",
       "\n",
       "    .dataframe tbody tr th {\n",
       "        vertical-align: top;\n",
       "    }\n",
       "\n",
       "    .dataframe thead th {\n",
       "        text-align: right;\n",
       "    }\n",
       "</style>\n",
       "<table border=\"1\" class=\"dataframe\">\n",
       "  <thead>\n",
       "    <tr style=\"text-align: right;\">\n",
       "      <th></th>\n",
       "      <th>age</th>\n",
       "      <th>trestbps</th>\n",
       "      <th>chol</th>\n",
       "      <th>thalach</th>\n",
       "      <th>oldpeak</th>\n",
       "    </tr>\n",
       "  </thead>\n",
       "  <tbody>\n",
       "    <tr>\n",
       "      <th>81</th>\n",
       "      <td>0.510204</td>\n",
       "      <td>0.351852</td>\n",
       "      <td>0.437811</td>\n",
       "      <td>0.619403</td>\n",
       "      <td>0.194444</td>\n",
       "    </tr>\n",
       "    <tr>\n",
       "      <th>218</th>\n",
       "      <td>0.734694</td>\n",
       "      <td>0.351852</td>\n",
       "      <td>0.502488</td>\n",
       "      <td>0.462687</td>\n",
       "      <td>0.416667</td>\n",
       "    </tr>\n",
       "    <tr>\n",
       "      <th>55</th>\n",
       "      <td>0.530612</td>\n",
       "      <td>0.296296</td>\n",
       "      <td>0.441128</td>\n",
       "      <td>0.365672</td>\n",
       "      <td>0.444444</td>\n",
       "    </tr>\n",
       "    <tr>\n",
       "      <th>282</th>\n",
       "      <td>0.387755</td>\n",
       "      <td>0.259259</td>\n",
       "      <td>0.339967</td>\n",
       "      <td>0.283582</td>\n",
       "      <td>0.416667</td>\n",
       "    </tr>\n",
       "    <tr>\n",
       "      <th>264</th>\n",
       "      <td>0.673469</td>\n",
       "      <td>0.425926</td>\n",
       "      <td>0.275290</td>\n",
       "      <td>0.485075</td>\n",
       "      <td>0.638889</td>\n",
       "    </tr>\n",
       "  </tbody>\n",
       "</table>\n",
       "</div>"
      ],
      "text/plain": [
       "          age  trestbps      chol   thalach   oldpeak\n",
       "81   0.510204  0.351852  0.437811  0.619403  0.194444\n",
       "218  0.734694  0.351852  0.502488  0.462687  0.416667\n",
       "55   0.530612  0.296296  0.441128  0.365672  0.444444\n",
       "282  0.387755  0.259259  0.339967  0.283582  0.416667\n",
       "264  0.673469  0.425926  0.275290  0.485075  0.638889"
      ]
     },
     "execution_count": 76,
     "metadata": {},
     "output_type": "execute_result"
    }
   ],
   "source": [
    "scaler = MinMaxScaler()\n",
    "\n",
    "scaler.fit(X_train_numeric)\n",
    "X_train_scaled = pd.DataFrame(\n",
    "    scaler.transform(X_train_numeric),\n",
    "    # index is important to ensure we can concatenate with other columns\n",
    "    index=X_train_numeric.index,\n",
    "    columns=X_train_numeric.columns\n",
    ")\n",
    "display(X_train_scaled.head())\n",
    "\n",
    "## perform same procedure on X_test\n",
    "X_test_scaled = pd.DataFrame(\n",
    "    scaler.transform(X_test_numeric),\n",
    "    # index is important to ensure we can concatenate with other columns\n",
    "    index=X_test_numeric.index,\n",
    "    columns=X_test_numeric.columns\n",
    ")\n",
    "X_test_scaled.head()"
   ]
  },
  {
   "cell_type": "code",
   "execution_count": 77,
   "id": "d2b6e70a-d8e3-4d7d-ab57-baf1932fc179",
   "metadata": {},
   "outputs": [
    {
     "data": {
      "text/html": [
       "<div>\n",
       "<style scoped>\n",
       "    .dataframe tbody tr th:only-of-type {\n",
       "        vertical-align: middle;\n",
       "    }\n",
       "\n",
       "    .dataframe tbody tr th {\n",
       "        vertical-align: top;\n",
       "    }\n",
       "\n",
       "    .dataframe thead th {\n",
       "        text-align: right;\n",
       "    }\n",
       "</style>\n",
       "<table border=\"1\" class=\"dataframe\">\n",
       "  <thead>\n",
       "    <tr style=\"text-align: right;\">\n",
       "      <th></th>\n",
       "      <th>age</th>\n",
       "      <th>trestbps</th>\n",
       "      <th>chol</th>\n",
       "      <th>thalach</th>\n",
       "      <th>oldpeak</th>\n",
       "      <th>sex</th>\n",
       "      <th>exang</th>\n",
       "      <th>fbs</th>\n",
       "      <th>cp_2</th>\n",
       "      <th>cp_3</th>\n",
       "      <th>cp_4</th>\n",
       "      <th>restecg_1</th>\n",
       "      <th>restecg_2</th>\n",
       "    </tr>\n",
       "  </thead>\n",
       "  <tbody>\n",
       "    <tr>\n",
       "      <th>88</th>\n",
       "      <td>0.510204</td>\n",
       "      <td>0.425926</td>\n",
       "      <td>0.388060</td>\n",
       "      <td>0.746269</td>\n",
       "      <td>0.138889</td>\n",
       "      <td>0.0</td>\n",
       "      <td>0.0</td>\n",
       "      <td>0.0</td>\n",
       "      <td>0.0</td>\n",
       "      <td>0.0</td>\n",
       "      <td>1.0</td>\n",
       "      <td>0.0</td>\n",
       "      <td>1.0</td>\n",
       "    </tr>\n",
       "    <tr>\n",
       "      <th>187</th>\n",
       "      <td>0.693878</td>\n",
       "      <td>0.444444</td>\n",
       "      <td>0.449420</td>\n",
       "      <td>0.686567</td>\n",
       "      <td>0.277778</td>\n",
       "      <td>1.0</td>\n",
       "      <td>0.0</td>\n",
       "      <td>0.0</td>\n",
       "      <td>1.0</td>\n",
       "      <td>0.0</td>\n",
       "      <td>0.0</td>\n",
       "      <td>0.0</td>\n",
       "      <td>0.0</td>\n",
       "    </tr>\n",
       "    <tr>\n",
       "      <th>117</th>\n",
       "      <td>0.142857</td>\n",
       "      <td>0.425926</td>\n",
       "      <td>0.303483</td>\n",
       "      <td>0.910448</td>\n",
       "      <td>0.333333</td>\n",
       "      <td>0.0</td>\n",
       "      <td>0.0</td>\n",
       "      <td>0.0</td>\n",
       "      <td>0.0</td>\n",
       "      <td>0.0</td>\n",
       "      <td>1.0</td>\n",
       "      <td>0.0</td>\n",
       "      <td>0.0</td>\n",
       "    </tr>\n",
       "    <tr>\n",
       "      <th>49</th>\n",
       "      <td>0.265306</td>\n",
       "      <td>0.259259</td>\n",
       "      <td>0.489221</td>\n",
       "      <td>0.820896</td>\n",
       "      <td>0.138889</td>\n",
       "      <td>1.0</td>\n",
       "      <td>0.0</td>\n",
       "      <td>0.0</td>\n",
       "      <td>1.0</td>\n",
       "      <td>0.0</td>\n",
       "      <td>0.0</td>\n",
       "      <td>0.0</td>\n",
       "      <td>0.0</td>\n",
       "    </tr>\n",
       "    <tr>\n",
       "      <th>76</th>\n",
       "      <td>0.346939</td>\n",
       "      <td>0.259259</td>\n",
       "      <td>0.373134</td>\n",
       "      <td>0.597015</td>\n",
       "      <td>0.138889</td>\n",
       "      <td>1.0</td>\n",
       "      <td>0.0</td>\n",
       "      <td>0.0</td>\n",
       "      <td>0.0</td>\n",
       "      <td>0.0</td>\n",
       "      <td>1.0</td>\n",
       "      <td>0.0</td>\n",
       "      <td>0.0</td>\n",
       "    </tr>\n",
       "  </tbody>\n",
       "</table>\n",
       "</div>"
      ],
      "text/plain": [
       "          age  trestbps      chol   thalach   oldpeak  sex  exang  fbs  cp_2  \\\n",
       "88   0.510204  0.425926  0.388060  0.746269  0.138889  0.0    0.0  0.0   0.0   \n",
       "187  0.693878  0.444444  0.449420  0.686567  0.277778  1.0    0.0  0.0   1.0   \n",
       "117  0.142857  0.425926  0.303483  0.910448  0.333333  0.0    0.0  0.0   0.0   \n",
       "49   0.265306  0.259259  0.489221  0.820896  0.138889  1.0    0.0  0.0   1.0   \n",
       "76   0.346939  0.259259  0.373134  0.597015  0.138889  1.0    0.0  0.0   0.0   \n",
       "\n",
       "     cp_3  cp_4  restecg_1  restecg_2  \n",
       "88    0.0   1.0        0.0        1.0  \n",
       "187   0.0   0.0        0.0        0.0  \n",
       "117   0.0   1.0        0.0        0.0  \n",
       "49    0.0   0.0        0.0        0.0  \n",
       "76    0.0   1.0        0.0        0.0  "
      ]
     },
     "metadata": {},
     "output_type": "display_data"
    },
    {
     "data": {
      "text/html": [
       "<div>\n",
       "<style scoped>\n",
       "    .dataframe tbody tr th:only-of-type {\n",
       "        vertical-align: middle;\n",
       "    }\n",
       "\n",
       "    .dataframe tbody tr th {\n",
       "        vertical-align: top;\n",
       "    }\n",
       "\n",
       "    .dataframe thead th {\n",
       "        text-align: right;\n",
       "    }\n",
       "</style>\n",
       "<table border=\"1\" class=\"dataframe\">\n",
       "  <thead>\n",
       "    <tr style=\"text-align: right;\">\n",
       "      <th></th>\n",
       "      <th>age</th>\n",
       "      <th>trestbps</th>\n",
       "      <th>chol</th>\n",
       "      <th>thalach</th>\n",
       "      <th>oldpeak</th>\n",
       "      <th>sex</th>\n",
       "      <th>exang</th>\n",
       "      <th>fbs</th>\n",
       "      <th>cp_2</th>\n",
       "      <th>cp_3</th>\n",
       "      <th>cp_4</th>\n",
       "      <th>restecg_1</th>\n",
       "      <th>restecg_2</th>\n",
       "    </tr>\n",
       "  </thead>\n",
       "  <tbody>\n",
       "    <tr>\n",
       "      <th>81</th>\n",
       "      <td>0.510204</td>\n",
       "      <td>0.351852</td>\n",
       "      <td>0.437811</td>\n",
       "      <td>0.619403</td>\n",
       "      <td>0.194444</td>\n",
       "      <td>0.0</td>\n",
       "      <td>0.0</td>\n",
       "      <td>0.0</td>\n",
       "      <td>0.0</td>\n",
       "      <td>0.0</td>\n",
       "      <td>1.0</td>\n",
       "      <td>0.0</td>\n",
       "      <td>1.0</td>\n",
       "    </tr>\n",
       "    <tr>\n",
       "      <th>218</th>\n",
       "      <td>0.734694</td>\n",
       "      <td>0.351852</td>\n",
       "      <td>0.502488</td>\n",
       "      <td>0.462687</td>\n",
       "      <td>0.416667</td>\n",
       "      <td>0.0</td>\n",
       "      <td>0.0</td>\n",
       "      <td>0.0</td>\n",
       "      <td>0.0</td>\n",
       "      <td>0.0</td>\n",
       "      <td>1.0</td>\n",
       "      <td>0.0</td>\n",
       "      <td>0.0</td>\n",
       "    </tr>\n",
       "    <tr>\n",
       "      <th>55</th>\n",
       "      <td>0.530612</td>\n",
       "      <td>0.296296</td>\n",
       "      <td>0.441128</td>\n",
       "      <td>0.365672</td>\n",
       "      <td>0.444444</td>\n",
       "      <td>1.0</td>\n",
       "      <td>1.0</td>\n",
       "      <td>0.0</td>\n",
       "      <td>0.0</td>\n",
       "      <td>0.0</td>\n",
       "      <td>1.0</td>\n",
       "      <td>0.0</td>\n",
       "      <td>1.0</td>\n",
       "    </tr>\n",
       "    <tr>\n",
       "      <th>282</th>\n",
       "      <td>0.387755</td>\n",
       "      <td>0.259259</td>\n",
       "      <td>0.339967</td>\n",
       "      <td>0.283582</td>\n",
       "      <td>0.416667</td>\n",
       "      <td>0.0</td>\n",
       "      <td>1.0</td>\n",
       "      <td>0.0</td>\n",
       "      <td>0.0</td>\n",
       "      <td>0.0</td>\n",
       "      <td>1.0</td>\n",
       "      <td>0.0</td>\n",
       "      <td>0.0</td>\n",
       "    </tr>\n",
       "    <tr>\n",
       "      <th>264</th>\n",
       "      <td>0.673469</td>\n",
       "      <td>0.425926</td>\n",
       "      <td>0.275290</td>\n",
       "      <td>0.485075</td>\n",
       "      <td>0.638889</td>\n",
       "      <td>1.0</td>\n",
       "      <td>1.0</td>\n",
       "      <td>0.0</td>\n",
       "      <td>0.0</td>\n",
       "      <td>0.0</td>\n",
       "      <td>1.0</td>\n",
       "      <td>0.0</td>\n",
       "      <td>1.0</td>\n",
       "    </tr>\n",
       "  </tbody>\n",
       "</table>\n",
       "</div>"
      ],
      "text/plain": [
       "          age  trestbps      chol   thalach   oldpeak  sex  exang  fbs  cp_2  \\\n",
       "81   0.510204  0.351852  0.437811  0.619403  0.194444  0.0    0.0  0.0   0.0   \n",
       "218  0.734694  0.351852  0.502488  0.462687  0.416667  0.0    0.0  0.0   0.0   \n",
       "55   0.530612  0.296296  0.441128  0.365672  0.444444  1.0    1.0  0.0   0.0   \n",
       "282  0.387755  0.259259  0.339967  0.283582  0.416667  0.0    1.0  0.0   0.0   \n",
       "264  0.673469  0.425926  0.275290  0.485075  0.638889  1.0    1.0  0.0   0.0   \n",
       "\n",
       "     cp_3  cp_4  restecg_1  restecg_2  \n",
       "81    0.0   1.0        0.0        1.0  \n",
       "218   0.0   1.0        0.0        0.0  \n",
       "55    0.0   1.0        0.0        1.0  \n",
       "282   0.0   1.0        0.0        0.0  \n",
       "264   0.0   1.0        0.0        1.0  "
      ]
     },
     "metadata": {},
     "output_type": "display_data"
    }
   ],
   "source": [
    "X_train_full = pd.concat([X_train_scaled, X_train_ohe], axis=1)\n",
    "display(X_train_full.head())\n",
    "\n",
    "# perform same procedure on X_test\n",
    "X_test_full = pd.concat([X_test_scaled, X_test_ohe], axis=1)\n",
    "display(X_test_full.head())"
   ]
  },
  {
   "cell_type": "markdown",
   "id": "4f1fccb4-ea8f-4e55-a660-cc66903dfd5a",
   "metadata": {},
   "source": [
    "### Logistic Regression"
   ]
  },
  {
   "cell_type": "code",
   "execution_count": 78,
   "id": "e26009d5-bb83-4415-8602-2a129b107112",
   "metadata": {},
   "outputs": [],
   "source": [
    "# def get_cross_val_summary(model, X_train,):"
   ]
  },
  {
   "cell_type": "code",
   "execution_count": 79,
   "id": "73fc5467-2328-46ac-9c7e-83daa540b81d",
   "metadata": {},
   "outputs": [
    {
     "name": "stdout",
     "output_type": "stream",
     "text": [
      "CROSS-VALIDATION RESULTS - LOGISTIC REGRESSION MODEL:\n",
      "mean accuracy score is: 0.81\n",
      "mean precision score is: 0.8\n",
      "mean recall score is: 0.75\n",
      "mean f1 score is: 0.78\n"
     ]
    }
   ],
   "source": [
    "logreg_model = LogisticRegression(max_iter=1000, random_state = 42)\n",
    "\n",
    "# cross-validation \n",
    "\n",
    "# Define the preprocessing pipeline\n",
    "\n",
    "preprocessor = ColumnTransformer(\n",
    "    transformers=[\n",
    "        ('num', MinMaxScaler(), numeric_features),\n",
    "        ('cat_enc', OneHotEncoder(handle_unknown='ignore', drop='first'), cat_features_to_encode),\n",
    "        ('cat_no_enc', 'passthrough', cat_features_no_encode)\n",
    "    ])\n",
    "\n",
    "pipeline = Pipeline(steps=[('preprocessing', preprocessor),\n",
    "               ('classifier', logreg_model)]\n",
    "                   )\n",
    "cv_scores = {key:0 for key in ['accuracy', 'precision', 'recall', 'f1']}\n",
    "cv_scores['accuracy'] = cross_val_score(pipeline, X_train, y_train, cv=5, scoring = 'accuracy').mean()\n",
    "cv_scores['precision'] = cross_val_score(pipeline, X_train, y_train, cv=5, scoring = 'precision').mean()\n",
    "cv_scores['recall'] = cross_val_score(pipeline, X_train, y_train, cv=5, scoring = 'recall').mean()\n",
    "cv_scores['f1'] = cross_val_score(pipeline, X_train, y_train, cv=5, scoring = 'f1').mean()\n",
    "\n",
    "print('CROSS-VALIDATION RESULTS - LOGISTIC REGRESSION MODEL:')\n",
    "[print(f'mean {key} score is: {round(cv_scores[key],2)}') for key in  ['accuracy', 'precision', 'recall', 'f1']];"
   ]
  },
  {
   "cell_type": "code",
   "execution_count": 80,
   "id": "23a84864-fb8c-4310-85fa-e0f1893ab792",
   "metadata": {},
   "outputs": [
    {
     "name": "stdout",
     "output_type": "stream",
     "text": [
      "TEST RESULTS - LOGISTIC REGRESSION MODEL:\n",
      "test accuracy score is 0.78\n",
      "test precision score is 0.85\n",
      "test recall score is 0.71\n",
      "test f1 score is 0.77\n"
     ]
    }
   ],
   "source": [
    "# test\n",
    "logreg_model.fit(X_train_full,y_train)\n",
    "y_pred = logreg_model.predict(X_test_full)\n",
    "\n",
    "print('TEST RESULTS - LOGISTIC REGRESSION MODEL:')\n",
    "print(f'test accuracy score is {round(accuracy_score(y_test, y_pred),2)}')\n",
    "print(f'test precision score is {round(precision_score(y_test, y_pred),2)}')\n",
    "print(f'test recall score is {round(recall_score(y_test, y_pred),2)}')\n",
    "print(f'test f1 score is {round(f1_score(y_test, y_pred),2)}')"
   ]
  },
  {
   "cell_type": "code",
   "execution_count": 81,
   "id": "4d7604e2-cc0f-4478-bbb3-c68762f3237a",
   "metadata": {},
   "outputs": [
    {
     "name": "stdout",
     "output_type": "stream",
     "text": [
      "Feature Importance in Logistic Regression:\n"
     ]
    },
    {
     "data": {
      "text/plain": [
       "oldpeak      2.063951\n",
       "cp_4         1.315194\n",
       "sex          1.262642\n",
       "age          1.227251\n",
       "exang        1.047705\n",
       "trestbps     0.560058\n",
       "fbs          0.408858\n",
       "restecg_2    0.226884\n",
       "restecg_1   -0.014473\n",
       "cp_3        -0.313805\n",
       "cp_2        -0.714208\n",
       "chol        -1.137252\n",
       "thalach     -1.721914\n",
       "dtype: float64"
      ]
     },
     "metadata": {},
     "output_type": "display_data"
    }
   ],
   "source": [
    "# Get feature importance (coefficients)\n",
    "coefficients = logreg_model.coef_[0]\n",
    "\n",
    "# Match coefficients with feature names\n",
    "feature_importance = pd.Series(coefficients, index=X_train_full.columns).sort_values(ascending=False)\n",
    "\n",
    "print(\"Feature Importance in Logistic Regression:\")\n",
    "display(feature_importance)"
   ]
  },
  {
   "cell_type": "markdown",
   "id": "fa83c5db-037b-40ff-bae3-3a514d1d8dbe",
   "metadata": {},
   "source": [
    "### Decision Trees"
   ]
  },
  {
   "cell_type": "markdown",
   "id": "2417abed-2eb7-48f1-afde-2d850ab6ea6b",
   "metadata": {},
   "source": [
    "It's not strictly required for categorical data to be encoded for decision trees to work. We will for now bypass one-hot encoding and will go back if we don't get the desired results."
   ]
  },
  {
   "cell_type": "code",
   "execution_count": 82,
   "id": "75a4768e-28fc-4286-9064-1331772d6a60",
   "metadata": {},
   "outputs": [
    {
     "name": "stdout",
     "output_type": "stream",
     "text": [
      "CROSS-VALIDATION RESULTS - DECISION TREE MODEL:\n",
      "mean accuracy score is: 0.74\n",
      "mean precision score is: 0.72\n",
      "mean recall score is: 0.68\n",
      "mean f1 score is: 0.7\n"
     ]
    }
   ],
   "source": [
    "clf = DecisionTreeClassifier(criterion='entropy', random_state=42)\n",
    "# cross-validation\n",
    "pipeline_clf = Pipeline(steps=[('preprocessing', preprocessor),\n",
    "               ('classifier', clf)])\n",
    "cv_scores_clf = {key:0 for key in ['accuracy', 'precision', 'recall', 'f1']}\n",
    "cv_scores_clf['accuracy'] = cross_val_score(pipeline_clf, X_train, y_train, cv=5, scoring = 'accuracy').mean()\n",
    "cv_scores_clf['precision'] = cross_val_score(pipeline_clf, X_train, y_train, cv=5, scoring = 'precision').mean()\n",
    "cv_scores_clf['recall'] = cross_val_score(pipeline_clf, X_train, y_train, cv=5, scoring = 'recall').mean()\n",
    "cv_scores_clf['f1'] = cross_val_score(pipeline_clf, X_train, y_train, cv=5, scoring = 'f1').mean()\n",
    "\n",
    "print('CROSS-VALIDATION RESULTS - DECISION TREE MODEL:')\n",
    "[print(f'mean {key} score is: {round(cv_scores_clf[key],2)}') for key in  ['accuracy', 'precision', 'recall', 'f1']];"
   ]
  },
  {
   "cell_type": "code",
   "execution_count": 83,
   "id": "c140d038-daf6-4530-8126-ab4962dc43ce",
   "metadata": {},
   "outputs": [
    {
     "name": "stdout",
     "output_type": "stream",
     "text": [
      "TEST RESULTS - DECISION TREE MODEL:\n",
      "test accuracy score is 0.73\n",
      "test precision score is 0.75\n",
      "test recall score is 0.72\n"
     ]
    }
   ],
   "source": [
    "# test\n",
    "clf.fit(X_train_full, y_train)\n",
    "y_pred_clf = clf.predict(X_test_full)\n",
    "\n",
    "print('TEST RESULTS - DECISION TREE MODEL:')\n",
    "print(f'test accuracy score is {round(accuracy_score(y_test, y_pred_clf),2)}')\n",
    "print(f'test precision score is {round(precision_score(y_test, y_pred_clf),2)}')\n",
    "print(f'test recall score is {round(recall_score(y_test, y_pred_clf),2)}')"
   ]
  },
  {
   "cell_type": "markdown",
   "id": "c3f3bfa3-2fd8-447a-8e6d-49cb0e30c2e5",
   "metadata": {},
   "source": [
    "**Hyperparameter Tuning**"
   ]
  },
  {
   "cell_type": "code",
   "execution_count": 84,
   "id": "2492cfe6-398b-462b-b109-7eb009ee4c4c",
   "metadata": {},
   "outputs": [
    {
     "name": "stdout",
     "output_type": "stream",
     "text": [
      "Best parameters: {'classifier__max_depth': 10, 'classifier__min_samples_leaf': 1, 'classifier__min_samples_split': 5}\n",
      "Best cross-validation score: 0.7573339703774487\n"
     ]
    }
   ],
   "source": [
    "pipeline_clf_tuning = Pipeline(steps=[('preprocessing', preprocessor),\n",
    "               ('classifier', DecisionTreeClassifier(criterion='entropy', random_state=42))])\n",
    "# Define the parameter grid\n",
    "param_grid = {\n",
    "    'classifier__max_depth': [None, 10, 20, 30],\n",
    "    'classifier__min_samples_split': [2, 5, 10],\n",
    "    'classifier__min_samples_leaf': [1, 2, 4],\n",
    "}\n",
    "\n",
    "# grid search with cross-validation\n",
    "grid_search = GridSearchCV(pipeline_clf_tuning,  param_grid=param_grid, cv=5, scoring='accuracy')\n",
    "grid_search.fit(X_train, y_train)\n",
    "\n",
    "# Get the best parameters and the best cross-validation score\n",
    "print(\"Best parameters:\", grid_search.best_params_)\n",
    "print(\"Best cross-validation score:\", grid_search.best_score_)"
   ]
  },
  {
   "cell_type": "code",
   "execution_count": 85,
   "id": "e007326e-20bb-4127-8678-bff4e6c86bab",
   "metadata": {},
   "outputs": [],
   "source": [
    "best_params = grid_search.best_params_\n",
    "best_params_stripped = {key.replace('classifier__',''): value for key,value in best_params.items()}\n",
    "best_dectree = DecisionTreeClassifier(criterion='entropy', random_state=42, **best_params_stripped)"
   ]
  },
  {
   "cell_type": "code",
   "execution_count": 86,
   "id": "ce269d3a-9e47-459f-a6c6-c11263d39919",
   "metadata": {},
   "outputs": [
    {
     "name": "stdout",
     "output_type": "stream",
     "text": [
      "FINAL CROSS-VALIDATION RESULTS - DECISION TREE MODEL:\n",
      "{'accuracy': 0.76, 'precision': 0.74, 'recall': 0.69, 'f1': 0.72}\n"
     ]
    }
   ],
   "source": [
    "# repeat cross-validation\n",
    "pipeline_best_dectree = Pipeline(steps=[('preprocessing', preprocessor),\n",
    "               ('classifier', best_dectree)])\n",
    "\n",
    "metrics = ['accuracy','precision', 'recall', 'f1']\n",
    "cv_scores_best_dectree = {key:0 for key in metrics}\n",
    "\n",
    "for metric in metrics:\n",
    "    cv_scores_best_dectree[metric] = round(cross_val_score(pipeline_best_dectree, X_train, y_train, cv=5, scoring = metric).mean(),2)\n",
    "\n",
    "print('FINAL CROSS-VALIDATION RESULTS - DECISION TREE MODEL:')\n",
    "print(cv_scores_best_dectree)"
   ]
  },
  {
   "cell_type": "code",
   "execution_count": 87,
   "id": "a7e98f10-a794-4a36-b360-3423789a23e9",
   "metadata": {},
   "outputs": [
    {
     "name": "stdout",
     "output_type": "stream",
     "text": [
      "TEST RESULTS - DECISION TREE MODEL:\n"
     ]
    },
    {
     "data": {
      "text/plain": [
       "{'accuracy': 0.73, 'precision': 0.77, 'recall': 0.67, 'f1': 0.72}"
      ]
     },
     "execution_count": 87,
     "metadata": {},
     "output_type": "execute_result"
    }
   ],
   "source": [
    "# test \n",
    "best_dectree.fit(X_train_full, y_train)\n",
    "y_pred_dectree = best_dectree.predict(X_test_full)\n",
    "\n",
    "test_scores_best_dectree = {key:0 for key in metrics}\n",
    "\n",
    "test_scores_best_dectree['accuracy'] = round(accuracy_score(y_test, y_pred_dectree),2)\n",
    "test_scores_best_dectree['precision'] = round(precision_score(y_test, y_pred_dectree),2)\n",
    "test_scores_best_dectree['recall'] = round(recall_score(y_test, y_pred_dectree),2)\n",
    "test_scores_best_dectree['f1'] = round(f1_score(y_test, y_pred_dectree),2)\n",
    "\n",
    "print('TEST RESULTS - DECISION TREE MODEL:')\n",
    "test_scores_best_dectree"
   ]
  },
  {
   "cell_type": "markdown",
   "id": "253de567-e5a3-4a30-9d08-d418f97a73f1",
   "metadata": {},
   "source": [
    "Even using hyperparameter tuning, we cannot imrprove the performance of the model by much using this type of classifier. "
   ]
  },
  {
   "cell_type": "code",
   "execution_count": 88,
   "id": "29c2c84f-66a3-4400-9512-c3331f811941",
   "metadata": {},
   "outputs": [
    {
     "data": {
      "image/png": "[encoded data removed]",
      "text/plain": [
       "<Figure size 600x400 with 1 Axes>"
      ]
     },
     "metadata": {},
     "output_type": "display_data"
    }
   ],
   "source": [
    "# Get feature importances\n",
    "\n",
    "best_dectree.fit(X_train_full, y_train)\n",
    "y_pred = best_dectree.predict(X_test_full)\n",
    "\n",
    "feature_importances = best_dectree.feature_importances_\n",
    "feature_names = X_train_full.columns\n",
    "importance_df = pd.DataFrame({'Feature': feature_names, 'Importance': feature_importances})\n",
    "# Sort by importance\n",
    "importance_df = importance_df.sort_values(by='Importance', ascending=False)\n",
    "\n",
    "fig,ax=plt.subplots(figsize=(6,4))\n",
    "importance_df.plot(x='Feature',kind='bar', color='skyblue', ax=ax);"
   ]
  },
  {
   "cell_type": "markdown",
   "id": "63a1323a-b3a3-409a-a525-38552104ecbb",
   "metadata": {},
   "source": [
    "## Random Forest"
   ]
  },
  {
   "cell_type": "code",
   "execution_count": 89,
   "id": "37126391-daaa-46b1-93cb-6ddd0a6cfd2a",
   "metadata": {},
   "outputs": [
    {
     "name": "stdout",
     "output_type": "stream",
     "text": [
      "CROSS-VALIDATION RESULTS - RANDOM FOREST MODEL:\n",
      "mean accuracy score is: 0.82\n",
      "mean precision score is: 0.82\n",
      "mean recall score is: 0.75\n",
      "mean f1 score is: 0.78\n"
     ]
    }
   ],
   "source": [
    "rf = RandomForestClassifier(random_state=42)\n",
    "\n",
    "# cross-validation\n",
    "pipeline_rf = Pipeline(steps=[('preprocessing', preprocessor),\n",
    "               ('classifier', rf)])\n",
    "cv_scores_rf = {key:0 for key in ['accuracy', 'precision', 'recall', 'f1']}\n",
    "cv_scores_rf['accuracy'] = cross_val_score(pipeline_rf, X_train, y_train, cv=5, scoring = 'accuracy').mean()\n",
    "cv_scores_rf['precision'] = cross_val_score(pipeline_rf, X_train, y_train, cv=5, scoring = 'precision').mean()\n",
    "cv_scores_rf['recall'] = cross_val_score(pipeline_rf, X_train, y_train, cv=5, scoring = 'recall').mean()\n",
    "cv_scores_rf['f1'] = cross_val_score(pipeline_rf, X_train, y_train, cv=5, scoring = 'f1').mean()\n",
    "\n",
    "print('CROSS-VALIDATION RESULTS - RANDOM FOREST MODEL:')\n",
    "[print(f'mean {key} score is: {round(cv_scores_rf[key],2)}') for key in  ['accuracy', 'precision', 'recall', 'f1']];"
   ]
  },
  {
   "cell_type": "code",
   "execution_count": 90,
   "id": "572823d2-0d08-402f-907f-cc4d554825cb",
   "metadata": {},
   "outputs": [
    {
     "name": "stdout",
     "output_type": "stream",
     "text": [
      "TEST RESULTS - RANDOM FOREST MODEL:\n",
      "test accuracy score is 0.78\n",
      "test precision score is 0.82\n",
      "test recall score is 0.73\n",
      "test recall score is 0.77\n"
     ]
    }
   ],
   "source": [
    "# test\n",
    "rf.fit(X_train_full, y_train)\n",
    "y_pred_rf = rf.predict(X_test_full)\n",
    "\n",
    "print('TEST RESULTS - RANDOM FOREST MODEL:')\n",
    "print(f'test accuracy score is {round(accuracy_score(y_test, y_pred_rf),2)}')\n",
    "print(f'test precision score is {round(precision_score(y_test, y_pred_rf),2)}')\n",
    "print(f'test recall score is {round(recall_score(y_test, y_pred_rf),2)}')\n",
    "print(f'test recall score is {round(f1_score(y_test, y_pred_rf),2)}')"
   ]
  },
  {
   "cell_type": "markdown",
   "id": "23b825e4-dcee-447d-b18b-a7094800a95e",
   "metadata": {},
   "source": [
    "**Hyperparameter Tuning**"
   ]
  },
  {
   "cell_type": "code",
   "execution_count": 91,
   "id": "48b208ce-d623-444b-8b38-1ddb1b5c9a5b",
   "metadata": {},
   "outputs": [],
   "source": [
    "# Define the model\n",
    "pipeline_rf_tuning = Pipeline(steps=[('preprocessing', preprocessor),\n",
    "               ('classifier', RandomForestClassifier(random_state=42))])\n",
    "# select parameter distribution\n",
    "param_dist = {\n",
    "    'classifier__n_estimators': randint(50,200),\n",
    "    'classifier__max_depth': [None, 10, 20, 30],\n",
    "    'classifier__min_samples_split': randint(2, 10),\n",
    "    'classifier__min_samples_leaf': randint(1, 4),\n",
    "    'classifier__max_features': ['sqrt', 'log2'],\n",
    "    'classifier__bootstrap': [True, False]\n",
    "}\n",
    "\n",
    "# Perform random search with cross-validation\n",
    "random_search = RandomizedSearchCV(pipeline_rf_tuning, param_distributions=param_dist, n_iter=100, cv=5, scoring='accuracy', n_jobs=-1, random_state=42)"
   ]
  },
  {
   "cell_type": "code",
   "execution_count": 93,
   "id": "3a4f7ec5-e7b8-48b3-9278-2c1ad3aff4bf",
   "metadata": {},
   "outputs": [
    {
     "name": "stdout",
     "output_type": "stream",
     "text": [
      "Best parameters: {'classifier__bootstrap': True, 'classifier__max_depth': 30, 'classifier__max_features': 'log2', 'classifier__min_samples_leaf': 1, 'classifier__min_samples_split': 3, 'classifier__n_estimators': 173}\n",
      "Best cross-validation score: 0.8206880076445293\n"
     ]
    }
   ],
   "source": [
    "random_search.fit(X_train, y_train)\n",
    "\n",
    "print(\"Best parameters:\", random_search.best_params_)\n",
    "print(\"Best cross-validation score:\", random_search.best_score_)"
   ]
  },
  {
   "cell_type": "code",
   "execution_count": 94,
   "id": "71ae1718-99a5-4a2b-8281-cd3292317eb4",
   "metadata": {},
   "outputs": [
    {
     "name": "stdout",
     "output_type": "stream",
     "text": [
      "CROSS-VALIDATION RESULTS - RANDOM FOREST MODEL:\n",
      "{'accuracy': 0.81, 'precision': 0.82, 'recall': 0.76, 'f1': 0.78}\n"
     ]
    }
   ],
   "source": [
    "# repeat cross-validation\n",
    "best_params = random_search.best_params_\n",
    "best_params_stripped = {key.replace('classifier__',''): value for key,value in best_params.items()}\n",
    "best_rf = RandomForestClassifier(**best_params_stripped)\n",
    "\n",
    "pipeline_best_rf = Pipeline(steps=[('preprocessing', preprocessor),\n",
    "               ('classifier', best_rf)])\n",
    "\n",
    "metrics = ['accuracy','precision', 'recall', 'f1']\n",
    "cv_scores_best_rf = {key:0 for key in metrics}\n",
    "\n",
    "for metric in metrics:\n",
    "    cv_scores_best_rf[metric] = round(cross_val_score(pipeline_best_rf, X_train, y_train, cv=5, scoring = metric).mean(),2)\n",
    "\n",
    "print('CROSS-VALIDATION RESULTS - RANDOM FOREST MODEL:')\n",
    "print(cv_scores_best_rf)"
   ]
  },
  {
   "cell_type": "code",
   "execution_count": 95,
   "id": "4e7085d5-3443-4352-8c7f-ef1a03c945d2",
   "metadata": {},
   "outputs": [
    {
     "name": "stdout",
     "output_type": "stream",
     "text": [
      "TEST RESULTS - RANDOM FOREST MODEL:\n"
     ]
    },
    {
     "data": {
      "text/plain": [
       "{'accuracy': 0.81, 'precision': 0.84, 'recall': 0.78, 'f1': 0.81}"
      ]
     },
     "execution_count": 95,
     "metadata": {},
     "output_type": "execute_result"
    }
   ],
   "source": [
    "best_rf.fit(X_train_full, y_train)\n",
    "y_pred_rf = best_rf.predict(X_test_full)\n",
    "test_scores_best_rf = {key:0 for key in metrics}\n",
    "\n",
    "test_scores_best_rf['accuracy'] = round(accuracy_score(y_test, y_pred_rf),2)\n",
    "test_scores_best_rf['precision'] = round(precision_score(y_test, y_pred_rf),2)\n",
    "test_scores_best_rf['recall'] = round(recall_score(y_test, y_pred_rf),2)\n",
    "test_scores_best_rf['f1'] = round(f1_score(y_test, y_pred_rf),2)\n",
    "\n",
    "print('TEST RESULTS - RANDOM FOREST MODEL:')\n",
    "test_scores_best_rf"
   ]
  },
  {
   "cell_type": "code",
   "execution_count": 96,
   "id": "77023981-5961-4b4c-aa86-352d5737261c",
   "metadata": {},
   "outputs": [
    {
     "data": {
      "image/png": "[encoded data removed]",
      "text/plain": [
       "<Figure size 640x480 with 1 Axes>"
      ]
     },
     "metadata": {},
     "output_type": "display_data"
    }
   ],
   "source": [
    "rf_feature_importance = best_rf.feature_importances_\n",
    "rf_importance_df = pd.DataFrame({'feature':feature_names, 'importances':rf_feature_importance})\n",
    "rf_importance_df.sort_values(by='importances',ascending=False).plot(kind='bar', x='feature', y='importances');"
   ]
  },
  {
   "cell_type": "markdown",
   "id": "775ed762-46ca-4d55-9b5b-4feaed56315b",
   "metadata": {},
   "source": [
    "## Results and Recommendations"
   ]
  },
  {
   "cell_type": "markdown",
   "id": "3d034fc1-7bdf-4c0b-8ae2-8930db15bb5a",
   "metadata": {},
   "source": [
    "The table below summarizes the performance of the models developed for cross-validation and test:"
   ]
  },
  {
   "cell_type": "markdown",
   "id": "5efd3b05-3b8c-415e-bf3f-b9ef65532c56",
   "metadata": {},
   "source": [
    "### Cross-validation results \n",
    "\n",
    "| Model   | Accuracy   | Precision  | Recall  | f1-score  | Top 5 Important Features |\n",
    "|-----|---|---|---|------| --------- |\n",
    "| Logistic Regression  | 0.81  | 0.80  | 0.75  | 0.78  | oldpeak, thalach, cp4, chol, sex |\n",
    "| Decision Tree  | 0.76  | 0.74  | 0.69  |  0.72 | cp4, chol, age, oldpeak, trestbps |\n",
    "| Random Forest  | 0.81  | 0.82  | 0.76  | 0.78  | thalach, cp-4, chol, oldpeak, age |"
   ]
  },
  {
   "cell_type": "markdown",
   "id": "af39c055-b779-4825-8dc1-84fe444e46c6",
   "metadata": {},
   "source": [
    "### Test results \n",
    "\n",
    "| Model   | Accuracy   | Precision  | Recall  | f1-score  | Top 5 Important Features |\n",
    "|-----|---|---|---|------| --------- |\n",
    "| Logistic Regression  | 0.78  | 0.85  | 0.71  | 0.77  | oldpeak, thalach, cp4, chol, sex |\n",
    "| Decision Tree  | 0.73  | 0.77  | 0.67  |  0.72 | cp4, chol, age, oldpeak, trestbps |\n",
    "| Random Forest  | 0.81  | 0.84  | 0.78  | 0.81  | thalach, cp-4, chol, oldpeak, age |"
   ]
  },
  {
   "cell_type": "markdown",
   "id": "d59c1c42-bf8e-4094-99e8-628ff1c17eb3",
   "metadata": {},
   "source": [
    "1. The random forest model has the best performance metrics among the tree tested. This is the model we should use for predicting whether a patient is prone to cardiovascular events that may need monitoring in the future. \n",
    "2. The following features are consistently listed as important by two or all classification algorithms:\n",
    "    - cp4: asymptomatic chest pain type. \n",
    "    - chol: serum cholestoral in mg/dl. Elevated levels of cholestrol can cause buildup in the arteries and therefore are associated with heart disease. \n",
    "    - oldpeak: ST depression induced by exercise relative to rest. This factor is strongly associated with ischemia and can be a predictor of heart disease. \n",
    "    - thalch: maximum heart rate achieved. Lower peak heart rates during stress tests are often indicative of cardiovascular issues.\n",
    "3. Age and sex are also among the other top-5 important features identified by the algorithms. "
   ]
  },
  {
   "cell_type": "markdown",
   "id": "5d830aac-4ab3-48e5-8610-0dd5a763826e",
   "metadata": {},
   "source": [
    "## Limitations and Next Steps"
   ]
  },
  {
   "cell_type": "markdown",
   "id": "9e4626e9-56d4-456b-b1c0-47a7db4a2366",
   "metadata": {},
   "source": [
    "1. The feature *oldpeak* has a heavily right-skewed distribution as shown in the plots above. Logistic regression assumes normal distribution for the features. Therefore its model assumptions are violated and its predictions may be inaccurate. Moreover, models like decision trees and the random forest method can get affected by such skewedness. In this case, outlier values can dominate the behavior of the model and affect the splits as well as feature importance. A more robust study would use techniques such as logarithmic transformation to reduce skewness in variables and then use them as features. \n",
    "2. In the context of this problem, having false positives is better than having false negatives since if a patient is flagged for susceptibility to heart disease, they will only need more check-ups. However, if they're not flagged while being high-risk, an unnoticed heart disease may occur with serious consequences for the patient. This means that recall is more important to us compared to precision. Therefore, one could repeat the hyperparameter tuning exercises using \"recall\" as the metric to optimize for.\n",
    "3. Other powerful methods such as K-Means clustering or neural networks may be explored for improving the performance."
   ]
  }
 ],
 "metadata": {
  "kernelspec": {
   "display_name": "Python (my-learn-env)",
   "language": "python",
   "name": "my-learn-env"
  },
  "language_info": {
   "codemirror_mode": {
    "name": "ipython",
    "version": 3
   },
   "file_extension": ".py",
   "mimetype": "text/x-python",
   "name": "python",
   "nbconvert_exporter": "python",
   "pygments_lexer": "ipython3",
   "version": "3.9.18"
  }
 },
 "nbformat": 4,
 "nbformat_minor": 5
}
